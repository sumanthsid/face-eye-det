{
 "cells": [
  {
   "cell_type": "code",
   "execution_count": 2,
   "metadata": {},
   "outputs": [
    {
     "ename": "error",
     "evalue": "OpenCV(3.4.1) C:\\Miniconda3\\conda-bld\\opencv-suite_1533128839831\\work\\modules\\imgproc\\src\\color.cpp:11147: error: (-215) scn == 3 || scn == 4 in function cv::cvtColor\n",
     "output_type": "error",
     "traceback": [
      "\u001b[1;31m---------------------------------------------------------------------------\u001b[0m",
      "\u001b[1;31merror\u001b[0m                                     Traceback (most recent call last)",
      "\u001b[1;32m<ipython-input-2-bc1bc2b9a565>\u001b[0m in \u001b[0;36m<module>\u001b[1;34m\u001b[0m\n\u001b[0;32m     13\u001b[0m \u001b[1;33m\u001b[0m\u001b[0m\n\u001b[0;32m     14\u001b[0m     \u001b[1;31m#convert to gray scale due to adaboost\u001b[0m\u001b[1;33m\u001b[0m\u001b[1;33m\u001b[0m\u001b[1;33m\u001b[0m\u001b[0m\n\u001b[1;32m---> 15\u001b[1;33m     \u001b[0mgray\u001b[0m \u001b[1;33m=\u001b[0m \u001b[0mcv\u001b[0m\u001b[1;33m.\u001b[0m\u001b[0mcvtColor\u001b[0m\u001b[1;33m(\u001b[0m\u001b[0mimg\u001b[0m\u001b[1;33m,\u001b[0m \u001b[0mcv\u001b[0m\u001b[1;33m.\u001b[0m\u001b[0mCOLOR_BGR2GRAY\u001b[0m\u001b[1;33m)\u001b[0m\u001b[1;33m\u001b[0m\u001b[1;33m\u001b[0m\u001b[0m\n\u001b[0m\u001b[0;32m     16\u001b[0m \u001b[1;33m\u001b[0m\u001b[0m\n\u001b[0;32m     17\u001b[0m     \u001b[1;31m#detects faces of different sizes in the input image\u001b[0m\u001b[1;33m\u001b[0m\u001b[1;33m\u001b[0m\u001b[1;33m\u001b[0m\u001b[0m\n",
      "\u001b[1;31merror\u001b[0m: OpenCV(3.4.1) C:\\Miniconda3\\conda-bld\\opencv-suite_1533128839831\\work\\modules\\imgproc\\src\\color.cpp:11147: error: (-215) scn == 3 || scn == 4 in function cv::cvtColor\n"
     ]
    }
   ],
   "source": [
    "import cv2 as cv\n",
    "  \n",
    "face_cascade = cv.CascadeClassifier('C:\\\\Users\\sssum\\Desktop\\ML workshop\\haarcascades\\haarcascade_frontalface_default.xml') \n",
    "eye_cascade = cv.CascadeClassifier('C:\\\\Users\\sssum\\Desktop\\ML workshop\\haarcascades\\haarcascade_eye.xml')  \n",
    "  \n",
    "#camera input \n",
    "cap = cv.VideoCapture(0) \n",
    "  \n",
    "while (True):  \n",
    "  \n",
    "    #read continour input frames camera \n",
    "    ret, img = cap.read()  \n",
    "  \n",
    "    #convert to gray scale due to adaboost\n",
    "    gray = cv.cvtColor(img, cv.COLOR_BGR2GRAY) \n",
    "  \n",
    "    #detects faces of different sizes in the input image \n",
    "    faces = face_cascade.detectMultiScale(gray, 1.5, 3) \n",
    "    \n",
    "    for (x,y,w,h) in faces: \n",
    "        \n",
    "        #rectangle in a face  \n",
    "        cv.rectangle(img,(x,y),(x+w,y+h),(255,0,0),2)  \n",
    "        roi_gray = gray[y:y+h, x:x+w] \n",
    "        roi = img[y:y+h, x:x+w] \n",
    "        \n",
    "        #detects eyes \n",
    "        eyes = eye_cascade.detectMultiScale(roi_gray)  \n",
    "  \n",
    "        #rectangle in eyes \n",
    "        for (x1,y1,w1,h1) in eyes: \n",
    "            cv.rectangle(roi,(x1,y1),(x1+w1,y1+h1),(0,0,255),3) \n",
    "  \n",
    "    #display img\n",
    "    cv.imshow('img',img) \n",
    "    \n",
    "    if cv.waitKey(1) & 0xFF==ord('q'):\n",
    "        cv.imwrite('capt1.jpg',img)\n",
    "        break\n",
    "#close img\n",
    "cap.release() \n",
    "  \n",
    "cv.destroyAllWindows()  "
   ]
  },
  {
   "cell_type": "code",
   "execution_count": null,
   "metadata": {},
   "outputs": [],
   "source": []
  }
 ],
 "metadata": {
  "kernelspec": {
   "display_name": "Python 3",
   "language": "python",
   "name": "python3"
  },
  "language_info": {
   "codemirror_mode": {
    "name": "ipython",
    "version": 3
   },
   "file_extension": ".py",
   "mimetype": "text/x-python",
   "name": "python",
   "nbconvert_exporter": "python",
   "pygments_lexer": "ipython3",
   "version": "3.7.1"
  }
 },
 "nbformat": 4,
 "nbformat_minor": 2
}
