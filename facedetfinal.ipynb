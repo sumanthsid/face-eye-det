{
 "cells": [
  {
   "cell_type": "code",
   "execution_count": 1,
   "metadata": {},
   "outputs": [],
   "source": [
    "import cv2  \n",
    "  \n",
    "face_cascade = cv2.CascadeClassifier('C:\\\\Users\\sssum\\Desktop\\ML workshop\\haarcascades\\haarcascade_frontalface_default.xml') \n",
    "eye_cascade = cv2.CascadeClassifier('C:\\\\Users\\sssum\\Desktop\\ML workshop\\haarcascades\\haarcascade_eye.xml')  \n",
    "  \n",
    "#camera input \n",
    "cap = cv2.VideoCapture(0) \n",
    "  \n",
    "while (True):  \n",
    "  \n",
    "    #read continour input frames camera \n",
    "    ret, img = cap.read()  \n",
    "  \n",
    "    #convert to gray scale due to adaboost\n",
    "    gray = cv2.cvtColor(img, cv2.COLOR_BGR2GRAY) \n",
    "  \n",
    "    #detects faces of different sizes in the input image \n",
    "    faces = face_cascade.detectMultiScale(gray, 1.5, 3) \n",
    "    \n",
    "    for (x,y,w,h) in faces: \n",
    "        #rectangle in a face  \n",
    "        cv2.rectangle(img,(x,y),(x+w,y+h),(255,0,0),2)  \n",
    "        roi_gray = gray[y:y+h, x:x+w] \n",
    "        roi_color = img[y:y+h, x:x+w] \n",
    "        \n",
    "        #detects eyes \n",
    "        eyes = eye_cascade.detectMultiScale(roi_gray)  \n",
    "  \n",
    "        #rectangle in eyes \n",
    "        for (x1,y1,w1,h1) in eyes: \n",
    "            cv2.rectangle(roi_color,(x1,y1),(x1+w1,y1+h1),(0,0,255),3) \n",
    "  \n",
    "    # Display an image in a window \n",
    "    cv2.imshow('img',img) \n",
    "    '''\n",
    "    # Wait for Esc key to stop \n",
    "    k = cv2.waitKey(30) & 0xff\n",
    "    if k == 27: \n",
    "        break\n",
    "    '''\n",
    "    if cv2.waitKey(1) & 0xFF==ord('q'):\n",
    "        cv2.imwrite('capt1.jpg',img)\n",
    "        break\n",
    "# Close the window \n",
    "cap.release() \n",
    "  \n",
    "cv2.destroyAllWindows()  "
   ]
  },
  {
   "cell_type": "code",
   "execution_count": null,
   "metadata": {},
   "outputs": [],
   "source": []
  }
 ],
 "metadata": {
  "kernelspec": {
   "display_name": "Python 3",
   "language": "python",
   "name": "python3"
  },
  "language_info": {
   "codemirror_mode": {
    "name": "ipython",
    "version": 3
   },
   "file_extension": ".py",
   "mimetype": "text/x-python",
   "name": "python",
   "nbconvert_exporter": "python",
   "pygments_lexer": "ipython3",
   "version": "3.7.1"
  }
 },
 "nbformat": 4,
 "nbformat_minor": 2
}
